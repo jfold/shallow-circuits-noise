{
 "cells": [
  {
   "cell_type": "code",
   "execution_count": null,
   "metadata": {},
   "outputs": [],
   "source": [
    "from simulations import *"
   ]
  },
  {
   "cell_type": "markdown",
   "metadata": {},
   "source": [
    "#### Basic use"
   ]
  },
  {
   "cell_type": "code",
   "execution_count": null,
   "metadata": {},
   "outputs": [],
   "source": [
    "hamiltonian = \"TFI-u\"\n",
    "settings =  f\"SEL-{hamiltonian}-0\"\n",
    "parameters = Parameters({\"experiment\":settings,\n",
    "\t\t\t\t\t\t\t\t\t\t\t\t\"ansatz\":\"SEL\",\n",
    "\t\t\t\t\t\t\t\t\t\t\t\t\"vqe\":True,\n",
    "\t\t\t\t\t\t\t\t\t\t\t\t\"hamiltonian\":hamiltonian,\n",
    "\t\t\t\t\t\t\t\t\t\t\t\t\"n_qubits\":6,\n",
    "\t\t\t\t\t\t\t\t\t\t\t\t\"n_seeds\":10,\n",
    "\t\t\t\t\t\t\t\t\t\t\t\t\"n_layers\":50},\n",
    "\t\t\t\t\t\t\t\t\t\t\t\tmkdir=True) # creates results folder with this experiment\n",
    "experiment = Experiment(parameters)\n",
    "experiment.run(save=True)"
   ]
  },
  {
   "cell_type": "markdown",
   "metadata": {},
   "source": [
    "#### Experiments in paper:"
   ]
  },
  {
   "cell_type": "code",
   "execution_count": null,
   "metadata": {},
   "outputs": [],
   "source": [
    "run_spinchain_experiments()\n",
    "run_chemistry_experiments()"
   ]
  },
  {
   "cell_type": "code",
   "execution_count": null,
   "metadata": {},
   "outputs": [],
   "source": [
    "n_qubits = 10\n",
    "plots = Plots()\n",
    "plots.largeplot({\"ansatz\":\"HVA\",\"hamiltonian\":\"XXZ-u\",\"n_qubits\":n_qubits,\"add_scrambling\":False},save=True)\n",
    "plots.largeplot({\"ansatz\":\"HVA\",\"hamiltonian\":\"XXZ-uni\",\"n_qubits\":n_qubits,\"add_scrambling\":False},save=True)\n",
    "plots.largeplot({\"ansatz\":\"HVA\",\"hamiltonian\":\"TFI-u\",\"n_qubits\":n_qubits,\"add_scrambling\":False},save=True,add_fit=False)\n",
    "plots.largeplot({\"ansatz\":\"HVA\",\"hamiltonian\":\"TFI-uni\",\"n_qubits\":n_qubits,\"add_scrambling\":False},save=True,add_fit=False)\n",
    "plots.largeplot({\"ansatz\":\"HVA\",\"hamiltonian\":\"TFI-u\",\"n_qubits\":n_qubits,\"add_scrambling\":True},save=True,add_fit=False)\n",
    "plots.largeplot_sel({\"ansatz\":\"SEL\",\"n_qubits\":n_qubits,\"hamiltonian\":\"TFI-u\"},save=True)\n",
    "plots.largeplot_lih({\"ansatz\":\"HVA\",\"hamiltonian\":\"LiH-\"},save=True)\n",
    "plots.large_alpha_N(n_qubits,save=True)"
   ]
  }
 ],
 "metadata": {
  "interpreter": {
   "hash": "6fb667f4fe49fc9fd2d8693dc4e5c7c2340911885c535ff38f35dc491d4ac502"
  },
  "kernelspec": {
   "display_name": "Python 3.8.12 ('oxford')",
   "language": "python",
   "name": "python3"
  },
  "language_info": {
   "codemirror_mode": {
    "name": "ipython",
    "version": 3
   },
   "file_extension": ".py",
   "mimetype": "text/x-python",
   "name": "python",
   "nbconvert_exporter": "python",
   "pygments_lexer": "ipython3",
   "version": "3.8.12"
  },
  "orig_nbformat": 4,
  "vscode": {
   "interpreter": {
    "hash": "4a148ac78c8d19ff964e88c19a852c03ee230eec808c6b147c9298586585eee6"
   }
  }
 },
 "nbformat": 4,
 "nbformat_minor": 2
}
